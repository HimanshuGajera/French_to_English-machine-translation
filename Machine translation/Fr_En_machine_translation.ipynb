{
  "nbformat": 4,
  "nbformat_minor": 0,
  "metadata": {
    "kernelspec": {
      "display_name": "Python 3",
      "language": "python",
      "name": "python3"
    },
    "language_info": {
      "codemirror_mode": {
        "name": "ipython",
        "version": 3
      },
      "file_extension": ".py",
      "mimetype": "text/x-python",
      "name": "python",
      "nbconvert_exporter": "python",
      "pygments_lexer": "ipython3",
      "version": "3.7.4"
    },
    "colab": {
      "name": "Fr_En_machine_translation.ipynb",
      "provenance": [],
      "collapsed_sections": []
    },
    "accelerator": "GPU"
  },
  "cells": [
    {
      "cell_type": "code",
      "metadata": {
        "id": "ghRSsVRj63Vi",
        "colab_type": "code",
        "colab": {}
      },
      "source": [
        "import string\n",
        "import re\n",
        "from numpy import array, argmax, random, take\n",
        "import pandas as pd\n",
        "from keras.models import Sequential\n",
        "from keras.layers import Dense, LSTM, Embedding, Bidirectional, RepeatVector, TimeDistributed\n",
        "from keras.preprocessing.text import Tokenizer\n",
        "from keras.callbacks import ModelCheckpoint\n",
        "from keras.preprocessing.sequence import pad_sequences\n",
        "from keras.models import load_model\n",
        "from keras import optimizers\n",
        "import matplotlib.pyplot as plt\n",
        "% matplotlib inline\n",
        "pd.set_option('display.max_colwidth', 200)"
      ],
      "execution_count": 12,
      "outputs": []
    },
    {
      "cell_type": "code",
      "metadata": {
        "id": "FmzjmEep63Vu",
        "colab_type": "code",
        "colab": {}
      },
      "source": [
        "data = pd.read_csv(\"/content/French_to_English.csv\")"
      ],
      "execution_count": 13,
      "outputs": []
    },
    {
      "cell_type": "code",
      "metadata": {
        "id": "Vxxgx-LZ63V0",
        "colab_type": "code",
        "colab": {
          "base_uri": "https://localhost:8080/",
          "height": 419
        },
        "outputId": "fcded71c-82cd-493d-db36-64186ea6db4f"
      },
      "source": [
        "data"
      ],
      "execution_count": 14,
      "outputs": [
        {
          "output_type": "execute_result",
          "data": {
            "text/html": [
              "<div>\n",
              "<style scoped>\n",
              "    .dataframe tbody tr th:only-of-type {\n",
              "        vertical-align: middle;\n",
              "    }\n",
              "\n",
              "    .dataframe tbody tr th {\n",
              "        vertical-align: top;\n",
              "    }\n",
              "\n",
              "    .dataframe thead th {\n",
              "        text-align: right;\n",
              "    }\n",
              "</style>\n",
              "<table border=\"1\" class=\"dataframe\">\n",
              "  <thead>\n",
              "    <tr style=\"text-align: right;\">\n",
              "      <th></th>\n",
              "      <th>French</th>\n",
              "      <th>English</th>\n",
              "    </tr>\n",
              "  </thead>\n",
              "  <tbody>\n",
              "    <tr>\n",
              "      <th>0</th>\n",
              "      <td>new jersey est parfois calme pendant l' automne</td>\n",
              "      <td>new jersey is sometimes quiet during autumn</td>\n",
              "    </tr>\n",
              "    <tr>\n",
              "      <th>1</th>\n",
              "      <td>les états-unis est généralement froid en juillet</td>\n",
              "      <td>the united states is usually chilly during july</td>\n",
              "    </tr>\n",
              "    <tr>\n",
              "      <th>2</th>\n",
              "      <td>california est généralement calme en mars</td>\n",
              "      <td>california is usually quiet during march</td>\n",
              "    </tr>\n",
              "    <tr>\n",
              "      <th>3</th>\n",
              "      <td>les états-unis est parfois légère en juin</td>\n",
              "      <td>the united states is sometimes mild during june</td>\n",
              "    </tr>\n",
              "    <tr>\n",
              "      <th>4</th>\n",
              "      <td>votre moins aimé fruit est le raisin</td>\n",
              "      <td>your least liked fruit is the grape</td>\n",
              "    </tr>\n",
              "    <tr>\n",
              "      <th>...</th>\n",
              "      <td>...</td>\n",
              "      <td>...</td>\n",
              "    </tr>\n",
              "    <tr>\n",
              "      <th>137855</th>\n",
              "      <td>la france est jamais occupée en mars</td>\n",
              "      <td>france is never busy during march</td>\n",
              "    </tr>\n",
              "    <tr>\n",
              "      <th>137856</th>\n",
              "      <td>l' inde est parfois belle au printemps</td>\n",
              "      <td>india is sometimes beautiful during spring</td>\n",
              "    </tr>\n",
              "    <tr>\n",
              "      <th>137857</th>\n",
              "      <td>l' inde est jamais mouillé pendant l' été</td>\n",
              "      <td>india is never wet during summer</td>\n",
              "    </tr>\n",
              "    <tr>\n",
              "      <th>137858</th>\n",
              "      <td>la france est jamais froid en janvier</td>\n",
              "      <td>france is never chilly during january</td>\n",
              "    </tr>\n",
              "    <tr>\n",
              "      <th>137859</th>\n",
              "      <td>l'orange est son fruit préféré</td>\n",
              "      <td>the orange is her favorite fruit</td>\n",
              "    </tr>\n",
              "  </tbody>\n",
              "</table>\n",
              "<p>137860 rows × 2 columns</p>\n",
              "</div>"
            ],
            "text/plain": [
              "                                                   French                                           English\n",
              "0         new jersey est parfois calme pendant l' automne       new jersey is sometimes quiet during autumn\n",
              "1       les états-unis est généralement froid en juillet   the united states is usually chilly during july \n",
              "2              california est généralement calme en mars          california is usually quiet during march \n",
              "3              les états-unis est parfois légère en juin   the united states is sometimes mild during june \n",
              "4                   votre moins aimé fruit est le raisin               your least liked fruit is the grape \n",
              "...                                                   ...                                               ...\n",
              "137855              la france est jamais occupée en mars                 france is never busy during march \n",
              "137856            l' inde est parfois belle au printemps        india is sometimes beautiful during spring \n",
              "137857         l' inde est jamais mouillé pendant l' été                  india is never wet during summer \n",
              "137858             la france est jamais froid en janvier             france is never chilly during january \n",
              "137859                    l'orange est son fruit préféré                  the orange is her favorite fruit \n",
              "\n",
              "[137860 rows x 2 columns]"
            ]
          },
          "metadata": {
            "tags": []
          },
          "execution_count": 14
        }
      ]
    },
    {
      "cell_type": "code",
      "metadata": {
        "id": "hkSTRPQQ63V6",
        "colab_type": "code",
        "colab": {}
      },
      "source": [
        "# function to read raw text file\n",
        "def read_text(filename):\n",
        "    # open the file\n",
        "    file = open(filename, mode='rt', encoding='utf-8')\n",
        "    # read all text\n",
        "    text = file.read()\n",
        "    file.close()\n",
        "    return text\n",
        "\n",
        "# split a text into sentences\n",
        "def to_lines(text):\n",
        "    sents = text.strip().split('\\n')\n",
        "    sents = [i.split('\\t') for i in sents]\n",
        "    return sents"
      ],
      "execution_count": 15,
      "outputs": []
    },
    {
      "cell_type": "code",
      "metadata": {
        "id": "8MWuPuX_63WD",
        "colab_type": "code",
        "colab": {}
      },
      "source": [
        "data = read_text(\"/content/French_to_English.txt\")\n",
        "deu_eng = to_lines(data)\n",
        "deu_eng = array(deu_eng)"
      ],
      "execution_count": 16,
      "outputs": []
    },
    {
      "cell_type": "code",
      "metadata": {
        "id": "wl0Dhd5V63WJ",
        "colab_type": "code",
        "colab": {
          "base_uri": "https://localhost:8080/",
          "height": 238
        },
        "outputId": "5829beff-849a-4af1-9f84-c29bcafbde3e"
      },
      "source": [
        "deu_eng"
      ],
      "execution_count": 17,
      "outputs": [
        {
          "output_type": "execute_result",
          "data": {
            "text/plain": [
              "array([[\"new jersey est parfois calme pendant l' automne\",\n",
              "        'new jersey is sometimes quiet during autumn'],\n",
              "       ['les états-unis est généralement froid en juillet ',\n",
              "        'the united states is usually chilly during july '],\n",
              "       ['california est généralement calme en mars ',\n",
              "        'california is usually quiet during march '],\n",
              "       ...,\n",
              "       [\"l' inde est jamais mouillé pendant l' été \",\n",
              "        'india is never wet during summer '],\n",
              "       ['la france est jamais froid en janvier ',\n",
              "        'france is never chilly during january '],\n",
              "       [\"l'orange est son fruit préféré \",\n",
              "        'the orange is her favorite fruit']], dtype='<U86')"
            ]
          },
          "metadata": {
            "tags": []
          },
          "execution_count": 17
        }
      ]
    },
    {
      "cell_type": "code",
      "metadata": {
        "id": "6G2d3Jtb63WN",
        "colab_type": "code",
        "colab": {}
      },
      "source": [
        "# Remove punctuation\n",
        "deu_eng[:,0] = [s.translate(str.maketrans('', '', string.punctuation)) for s in deu_eng[:,0]]\n",
        "deu_eng[:,1] = [s.translate(str.maketrans('', '', string.punctuation)) for s in deu_eng[:,1]]"
      ],
      "execution_count": 18,
      "outputs": []
    },
    {
      "cell_type": "code",
      "metadata": {
        "id": "iaRAujnT63WV",
        "colab_type": "code",
        "colab": {
          "base_uri": "https://localhost:8080/",
          "height": 238
        },
        "outputId": "791d5a06-ec29-4176-f76d-174b79759861"
      },
      "source": [
        "deu_eng"
      ],
      "execution_count": 19,
      "outputs": [
        {
          "output_type": "execute_result",
          "data": {
            "text/plain": [
              "array([['new jersey est parfois calme pendant l automne',\n",
              "        'new jersey is sometimes quiet during autumn'],\n",
              "       ['les étatsunis est généralement froid en juillet ',\n",
              "        'the united states is usually chilly during july '],\n",
              "       ['california est généralement calme en mars ',\n",
              "        'california is usually quiet during march '],\n",
              "       ...,\n",
              "       ['l inde est jamais mouillé pendant l été ',\n",
              "        'india is never wet during summer '],\n",
              "       ['la france est jamais froid en janvier ',\n",
              "        'france is never chilly during january '],\n",
              "       ['lorange est son fruit préféré ',\n",
              "        'the orange is her favorite fruit']], dtype='<U86')"
            ]
          },
          "metadata": {
            "tags": []
          },
          "execution_count": 19
        }
      ]
    },
    {
      "cell_type": "code",
      "metadata": {
        "id": "Eca73cdK63Wb",
        "colab_type": "code",
        "colab": {}
      },
      "source": [
        "# convert to lowercase\n",
        "for i in range(len(deu_eng)):\n",
        "    deu_eng[i,0] = deu_eng[i,0].lower()\n",
        "    \n",
        "    deu_eng[i,1] = deu_eng[i,1].lower()"
      ],
      "execution_count": 20,
      "outputs": []
    },
    {
      "cell_type": "code",
      "metadata": {
        "id": "cZUjtnW_63Wm",
        "colab_type": "code",
        "colab": {
          "base_uri": "https://localhost:8080/",
          "height": 238
        },
        "outputId": "7300e614-246d-4556-94c7-c72525fb2210"
      },
      "source": [
        "deu_eng"
      ],
      "execution_count": 21,
      "outputs": [
        {
          "output_type": "execute_result",
          "data": {
            "text/plain": [
              "array([['new jersey est parfois calme pendant l automne',\n",
              "        'new jersey is sometimes quiet during autumn'],\n",
              "       ['les étatsunis est généralement froid en juillet ',\n",
              "        'the united states is usually chilly during july '],\n",
              "       ['california est généralement calme en mars ',\n",
              "        'california is usually quiet during march '],\n",
              "       ...,\n",
              "       ['l inde est jamais mouillé pendant l été ',\n",
              "        'india is never wet during summer '],\n",
              "       ['la france est jamais froid en janvier ',\n",
              "        'france is never chilly during january '],\n",
              "       ['lorange est son fruit préféré ',\n",
              "        'the orange is her favorite fruit']], dtype='<U86')"
            ]
          },
          "metadata": {
            "tags": []
          },
          "execution_count": 21
        }
      ]
    },
    {
      "cell_type": "code",
      "metadata": {
        "id": "yibmxbju63Ws",
        "colab_type": "code",
        "colab": {}
      },
      "source": [
        "# empty lists\n",
        "eng_l = []\n",
        "deu_l = []\n",
        "\n",
        "# populate the lists with sentence lengths\n",
        "for i in deu_eng[:,0]:\n",
        "    eng_l.append(len(i.split()))\n",
        "\n",
        "for i in deu_eng[:,1]:\n",
        "    deu_l.append(len(i.split()))"
      ],
      "execution_count": 22,
      "outputs": []
    },
    {
      "cell_type": "code",
      "metadata": {
        "id": "Z68zDrrQ63W0",
        "colab_type": "code",
        "colab": {}
      },
      "source": [
        "length_df = pd.DataFrame({'eng':eng_l, 'deu':deu_l})"
      ],
      "execution_count": 23,
      "outputs": []
    },
    {
      "cell_type": "code",
      "metadata": {
        "id": "hznPGA5463W8",
        "colab_type": "code",
        "colab": {
          "base_uri": "https://localhost:8080/",
          "height": 281
        },
        "outputId": "f2429c11-3aee-475f-92b7-576bbfd1dbed"
      },
      "source": [
        "length_df.hist(bins = 30)\n",
        "plt.show()"
      ],
      "execution_count": 24,
      "outputs": [
        {
          "output_type": "display_data",
          "data": {
            "image/png": "[encoded data removed]",
            "text/plain": [
              "<Figure size 432x288 with 2 Axes>"
            ]
          },
          "metadata": {
            "tags": [],
            "needs_background": "light"
          }
        }
      ]
    },
    {
      "cell_type": "code",
      "metadata": {
        "id": "WPG71aRf63W_",
        "colab_type": "code",
        "colab": {}
      },
      "source": [
        "# function to build a tokenizer\n",
        "def tokenization(lines):\n",
        "    tokenizer = Tokenizer()\n",
        "    tokenizer.fit_on_texts(lines)\n",
        "    return tokenizer"
      ],
      "execution_count": 25,
      "outputs": []
    },
    {
      "cell_type": "code",
      "metadata": {
        "id": "qn2wh90g63XF",
        "colab_type": "code",
        "colab": {
          "base_uri": "https://localhost:8080/",
          "height": 34
        },
        "outputId": "57f41650-a9ad-4acc-f41a-bed8f841a908"
      },
      "source": [
        "# prepare english tokenizer\n",
        "eng_tokenizer = tokenization(deu_eng[:, 1])\n",
        "eng_vocab_size = len(eng_tokenizer.word_index) + 1\n",
        "\n",
        "eng_length = 8\n",
        "print('English Vocabulary Size: %d' % eng_vocab_size)"
      ],
      "execution_count": 26,
      "outputs": [
        {
          "output_type": "stream",
          "text": [
            "English Vocabulary Size: 199\n"
          ],
          "name": "stdout"
        }
      ]
    },
    {
      "cell_type": "code",
      "metadata": {
        "id": "NrBtJpjJ63XL",
        "colab_type": "code",
        "colab": {
          "base_uri": "https://localhost:8080/",
          "height": 34
        },
        "outputId": "0504cb07-ce80-474f-aee5-c4a28b5eb263"
      },
      "source": [
        "# prepare French tokenizer\n",
        "deu_tokenizer = tokenization(deu_eng[:, 0])\n",
        "deu_vocab_size = len(deu_tokenizer.word_index) + 1\n",
        "\n",
        "deu_length = 8\n",
        "print('French Vocabulary Size: %d' % deu_vocab_size)"
      ],
      "execution_count": 27,
      "outputs": [
        {
          "output_type": "stream",
          "text": [
            "French Vocabulary Size: 334\n"
          ],
          "name": "stdout"
        }
      ]
    },
    {
      "cell_type": "code",
      "metadata": {
        "id": "Bux7BzRh63XP",
        "colab_type": "code",
        "colab": {}
      },
      "source": [
        "# encode and pad sequences\n",
        "def encode_sequences(tokenizer, length, lines):\n",
        "    # integer encode sequences\n",
        "    seq = tokenizer.texts_to_sequences(lines)\n",
        "    # pad sequences with 0 values\n",
        "    seq = pad_sequences(seq, maxlen=length, padding='post')\n",
        "    return seq"
      ],
      "execution_count": 28,
      "outputs": []
    },
    {
      "cell_type": "code",
      "metadata": {
        "id": "wPr9WA2e63XX",
        "colab_type": "code",
        "colab": {}
      },
      "source": [
        "# model building\n",
        "\n",
        "from sklearn.model_selection import train_test_split\n",
        "train, test = train_test_split(deu_eng, test_size=0.2, random_state = 12)\n",
        "\n",
        "# prepare training data\n",
        "trainX = encode_sequences(deu_tokenizer, deu_length, train[:, 0])\n",
        "trainY = encode_sequences(eng_tokenizer, eng_length, train[:, 1])\n",
        "\n",
        "# prepare validation data\n",
        "testX = encode_sequences(deu_tokenizer, deu_length, test[:, 0])\n",
        "testY = encode_sequences(eng_tokenizer, eng_length, test[:, 1])\n",
        "\n",
        "# build NMT model\n",
        "def build_model(in_vocab, out_vocab, in_timesteps, out_timesteps, units):\n",
        "    model = Sequential()\n",
        "    model.add(Embedding(in_vocab, units, input_length=in_timesteps, mask_zero=True))\n",
        "    model.add(LSTM(units))\n",
        "    model.add(RepeatVector(out_timesteps))\n",
        "    model.add(LSTM(units, return_sequences=True))\n",
        "    model.add(Dense(out_vocab, activation='softmax'))\n",
        "    return model\n"
      ],
      "execution_count": 29,
      "outputs": []
    },
    {
      "cell_type": "code",
      "metadata": {
        "id": "h7sDm4ll63Xe",
        "colab_type": "code",
        "colab": {}
      },
      "source": [
        "model = build_model(deu_vocab_size, eng_vocab_size, deu_length, eng_length, 512)\n",
        "rms = optimizers.RMSprop(lr=0.001)\n",
        "model.compile(optimizer=rms, loss='sparse_categorical_crossentropy')"
      ],
      "execution_count": 30,
      "outputs": []
    },
    {
      "cell_type": "code",
      "metadata": {
        "id": "blMzc48r63Xi",
        "colab_type": "code",
        "colab": {
          "base_uri": "https://localhost:8080/",
          "height": 1000
        },
        "outputId": "b4bb197f-c762-4b58-9afc-295cf3b2385d"
      },
      "source": [
        "filename = 'FR_to_Eng_model.h1.24_jun_20'\n",
        "checkpoint = ModelCheckpoint(filename, monitor='val_loss', verbose=1, save_best_only=True, mode='min')\n",
        "\n",
        "history = model.fit(trainX, trainY.reshape(trainY.shape[0], trainY.shape[1], 1), \n",
        "          epochs=25, batch_size=512, \n",
        "          validation_split = 0.2,\n",
        "          callbacks=[checkpoint], verbose=1)"
      ],
      "execution_count": 31,
      "outputs": [
        {
          "output_type": "stream",
          "text": [
            "/usr/local/lib/python3.6/dist-packages/tensorflow/python/framework/indexed_slices.py:434: UserWarning: Converting sparse IndexedSlices to a dense Tensor of unknown shape. This may consume a large amount of memory.\n",
            "  \"Converting sparse IndexedSlices to a dense Tensor of unknown shape. \"\n"
          ],
          "name": "stderr"
        },
        {
          "output_type": "stream",
          "text": [
            "Train on 88230 samples, validate on 22058 samples\n",
            "Epoch 1/25\n",
            "88230/88230 [==============================] - 25s 281us/step - loss: 1.9591 - val_loss: 1.0824\n",
            "\n",
            "Epoch 00001: val_loss improved from inf to 1.08236, saving model to FR_to_Eng_model.h1.24_jun_20\n",
            "Epoch 2/25\n",
            "88230/88230 [==============================] - 22s 251us/step - loss: 0.8570 - val_loss: 0.6687\n",
            "\n",
            "Epoch 00002: val_loss improved from 1.08236 to 0.66871, saving model to FR_to_Eng_model.h1.24_jun_20\n",
            "Epoch 3/25\n",
            "88230/88230 [==============================] - 22s 254us/step - loss: 0.5020 - val_loss: 0.3206\n",
            "\n",
            "Epoch 00003: val_loss improved from 0.66871 to 0.32057, saving model to FR_to_Eng_model.h1.24_jun_20\n",
            "Epoch 4/25\n",
            "88230/88230 [==============================] - 22s 250us/step - loss: 0.2530 - val_loss: 0.1633\n",
            "\n",
            "Epoch 00004: val_loss improved from 0.32057 to 0.16329, saving model to FR_to_Eng_model.h1.24_jun_20\n",
            "Epoch 5/25\n",
            "88230/88230 [==============================] - 22s 252us/step - loss: 0.1291 - val_loss: 0.1341\n",
            "\n",
            "Epoch 00005: val_loss improved from 0.16329 to 0.13406, saving model to FR_to_Eng_model.h1.24_jun_20\n",
            "Epoch 6/25\n",
            "88230/88230 [==============================] - 22s 250us/step - loss: 0.0911 - val_loss: 0.0854\n",
            "\n",
            "Epoch 00006: val_loss improved from 0.13406 to 0.08543, saving model to FR_to_Eng_model.h1.24_jun_20\n",
            "Epoch 7/25\n",
            "88230/88230 [==============================] - 22s 250us/step - loss: 0.0850 - val_loss: 0.0800\n",
            "\n",
            "Epoch 00007: val_loss improved from 0.08543 to 0.07997, saving model to FR_to_Eng_model.h1.24_jun_20\n",
            "Epoch 8/25\n",
            "88230/88230 [==============================] - 22s 251us/step - loss: 0.0759 - val_loss: 0.0654\n",
            "\n",
            "Epoch 00008: val_loss improved from 0.07997 to 0.06541, saving model to FR_to_Eng_model.h1.24_jun_20\n",
            "Epoch 9/25\n",
            "88230/88230 [==============================] - 22s 253us/step - loss: 0.0653 - val_loss: 0.0636\n",
            "\n",
            "Epoch 00009: val_loss improved from 0.06541 to 0.06360, saving model to FR_to_Eng_model.h1.24_jun_20\n",
            "Epoch 10/25\n",
            "88230/88230 [==============================] - 22s 255us/step - loss: 0.0658 - val_loss: 0.1287\n",
            "\n",
            "Epoch 00010: val_loss did not improve from 0.06360\n",
            "Epoch 11/25\n",
            "88230/88230 [==============================] - 22s 254us/step - loss: 0.0584 - val_loss: 0.0790\n",
            "\n",
            "Epoch 00011: val_loss did not improve from 0.06360\n",
            "Epoch 12/25\n",
            "88230/88230 [==============================] - 22s 253us/step - loss: 0.0574 - val_loss: 0.0594\n",
            "\n",
            "Epoch 00012: val_loss improved from 0.06360 to 0.05939, saving model to FR_to_Eng_model.h1.24_jun_20\n",
            "Epoch 13/25\n",
            "88230/88230 [==============================] - 22s 252us/step - loss: 0.0577 - val_loss: 0.0622\n",
            "\n",
            "Epoch 00013: val_loss did not improve from 0.05939\n",
            "Epoch 14/25\n",
            "88230/88230 [==============================] - 22s 254us/step - loss: 0.0550 - val_loss: 0.0629\n",
            "\n",
            "Epoch 00014: val_loss did not improve from 0.05939\n",
            "Epoch 15/25\n",
            "88230/88230 [==============================] - 22s 253us/step - loss: 0.0529 - val_loss: 0.0595\n",
            "\n",
            "Epoch 00015: val_loss did not improve from 0.05939\n",
            "Epoch 16/25\n",
            "88230/88230 [==============================] - 22s 252us/step - loss: 0.0518 - val_loss: 0.0599\n",
            "\n",
            "Epoch 00016: val_loss did not improve from 0.05939\n",
            "Epoch 17/25\n",
            "88230/88230 [==============================] - 22s 253us/step - loss: 0.0524 - val_loss: 0.0631\n",
            "\n",
            "Epoch 00017: val_loss did not improve from 0.05939\n",
            "Epoch 18/25\n",
            "88230/88230 [==============================] - 22s 252us/step - loss: 0.0511 - val_loss: 0.0585\n",
            "\n",
            "Epoch 00018: val_loss improved from 0.05939 to 0.05853, saving model to FR_to_Eng_model.h1.24_jun_20\n",
            "Epoch 19/25\n",
            "88230/88230 [==============================] - 22s 250us/step - loss: 0.0506 - val_loss: 0.0715\n",
            "\n",
            "Epoch 00019: val_loss did not improve from 0.05853\n",
            "Epoch 20/25\n",
            "88230/88230 [==============================] - 22s 249us/step - loss: 0.0515 - val_loss: 0.0572\n",
            "\n",
            "Epoch 00020: val_loss improved from 0.05853 to 0.05723, saving model to FR_to_Eng_model.h1.24_jun_20\n",
            "Epoch 21/25\n",
            "88230/88230 [==============================] - 22s 249us/step - loss: 0.0497 - val_loss: 0.0585\n",
            "\n",
            "Epoch 00021: val_loss did not improve from 0.05723\n",
            "Epoch 22/25\n",
            "88230/88230 [==============================] - 22s 251us/step - loss: 0.0496 - val_loss: 0.0585\n",
            "\n",
            "Epoch 00022: val_loss did not improve from 0.05723\n",
            "Epoch 23/25\n",
            "88230/88230 [==============================] - 22s 250us/step - loss: 0.0489 - val_loss: 0.0561\n",
            "\n",
            "Epoch 00023: val_loss improved from 0.05723 to 0.05612, saving model to FR_to_Eng_model.h1.24_jun_20\n",
            "Epoch 24/25\n",
            "88230/88230 [==============================] - 22s 251us/step - loss: 0.0485 - val_loss: 0.0596\n",
            "\n",
            "Epoch 00024: val_loss did not improve from 0.05612\n",
            "Epoch 25/25\n",
            "88230/88230 [==============================] - 22s 248us/step - loss: 0.0483 - val_loss: 0.0606\n",
            "\n",
            "Epoch 00025: val_loss did not improve from 0.05612\n"
          ],
          "name": "stdout"
        }
      ]
    },
    {
      "cell_type": "code",
      "metadata": {
        "id": "eoIsn6o463Xo",
        "colab_type": "code",
        "colab": {
          "base_uri": "https://localhost:8080/",
          "height": 265
        },
        "outputId": "af2891f5-492c-4efa-a85a-373c22d2bcd6"
      },
      "source": [
        "plt.plot(history.history['loss'])\n",
        "plt.plot(history.history['val_loss'])\n",
        "plt.legend(['train','validation'])\n",
        "plt.show()"
      ],
      "execution_count": 32,
      "outputs": [
        {
          "output_type": "display_data",
          "data": {
            "image/png": "[encoded data removed]",
            "text/plain": [
              "<Figure size 432x288 with 1 Axes>"
            ]
          },
          "metadata": {
            "tags": [],
            "needs_background": "light"
          }
        }
      ]
    },
    {
      "cell_type": "code",
      "metadata": {
        "id": "WFbXThVB63Xs",
        "colab_type": "code",
        "colab": {
          "base_uri": "https://localhost:8080/",
          "height": 71
        },
        "outputId": "23b31bb9-4674-4462-d663-b4e6c6ad5af8"
      },
      "source": [
        "model = load_model('FR_to_Eng_model.h1.24_jun_20')\n",
        "preds = model.predict_classes(testX.reshape((testX.shape[0],testX.shape[1])))"
      ],
      "execution_count": 33,
      "outputs": [
        {
          "output_type": "stream",
          "text": [
            "/usr/local/lib/python3.6/dist-packages/tensorflow/python/framework/indexed_slices.py:434: UserWarning: Converting sparse IndexedSlices to a dense Tensor of unknown shape. This may consume a large amount of memory.\n",
            "  \"Converting sparse IndexedSlices to a dense Tensor of unknown shape. \"\n"
          ],
          "name": "stderr"
        }
      ]
    },
    {
      "cell_type": "code",
      "metadata": {
        "id": "dI_nMeAm63Xw",
        "colab_type": "code",
        "colab": {}
      },
      "source": [
        "def get_word(n, tokenizer):\n",
        "    for word, index in tokenizer.word_index.items():\n",
        "        if index == n:\n",
        "            return word\n",
        "    return None"
      ],
      "execution_count": 34,
      "outputs": []
    },
    {
      "cell_type": "code",
      "metadata": {
        "id": "LU71UqKk63X3",
        "colab_type": "code",
        "colab": {}
      },
      "source": [
        "# convert predictions into text (English)\n",
        "preds_text = []\n",
        "for i in preds:\n",
        "    temp = []\n",
        "    for j in range(len(i)):\n",
        "        t = get_word(i[j], eng_tokenizer)\n",
        "        if j > 0:\n",
        "            if (t == get_word(i[j-1], eng_tokenizer)) or (t == None):\n",
        "                temp.append('')\n",
        "            else:\n",
        "                temp.append(t)\n",
        "             \n",
        "        else:\n",
        "            if(t == None):\n",
        "                temp.append('')\n",
        "            else:\n",
        "                temp.append(t)            \n",
        "        \n",
        "    preds_text.append(' '.join(temp))"
      ],
      "execution_count": 35,
      "outputs": []
    },
    {
      "cell_type": "code",
      "metadata": {
        "id": "NNnH7wsA63X_",
        "colab_type": "code",
        "colab": {}
      },
      "source": [
        "pred_df = pd.DataFrame({'actual' : test[:,1], 'predicted' : preds_text})"
      ],
      "execution_count": 36,
      "outputs": []
    },
    {
      "cell_type": "code",
      "metadata": {
        "id": "Ea09A4AV63YJ",
        "colab_type": "code",
        "colab": {}
      },
      "source": [
        "pd.set_option('display.max_colwidth', 200)"
      ],
      "execution_count": 37,
      "outputs": []
    },
    {
      "cell_type": "code",
      "metadata": {
        "id": "ShCN9J6t63YP",
        "colab_type": "code",
        "colab": {
          "base_uri": "https://localhost:8080/",
          "height": 514
        },
        "outputId": "3ac749ce-9fee-4e5c-c6ce-d55d5d67359a"
      },
      "source": [
        "pred_df.head(15)"
      ],
      "execution_count": 38,
      "outputs": [
        {
          "output_type": "execute_result",
          "data": {
            "text/html": [
              "<div>\n",
              "<style scoped>\n",
              "    .dataframe tbody tr th:only-of-type {\n",
              "        vertical-align: middle;\n",
              "    }\n",
              "\n",
              "    .dataframe tbody tr th {\n",
              "        vertical-align: top;\n",
              "    }\n",
              "\n",
              "    .dataframe thead th {\n",
              "        text-align: right;\n",
              "    }\n",
              "</style>\n",
              "<table border=\"1\" class=\"dataframe\">\n",
              "  <thead>\n",
              "    <tr style=\"text-align: right;\">\n",
              "      <th></th>\n",
              "      <th>actual</th>\n",
              "      <th>predicted</th>\n",
              "    </tr>\n",
              "  </thead>\n",
              "  <tbody>\n",
              "    <tr>\n",
              "      <th>0</th>\n",
              "      <td>your favorite fruit is the apple</td>\n",
              "      <td>your favorite fruit is the apple</td>\n",
              "    </tr>\n",
              "    <tr>\n",
              "      <th>1</th>\n",
              "      <td>france is never rainy during august</td>\n",
              "      <td>france is never rainy during august</td>\n",
              "    </tr>\n",
              "    <tr>\n",
              "      <th>2</th>\n",
              "      <td>the lime is her favorite fruit</td>\n",
              "      <td>the lime is her favorite fruit</td>\n",
              "    </tr>\n",
              "    <tr>\n",
              "      <th>3</th>\n",
              "      <td>he likes a big black automobile</td>\n",
              "      <td>he likes a big black automobile</td>\n",
              "    </tr>\n",
              "    <tr>\n",
              "      <th>4</th>\n",
              "      <td>california is busy during july</td>\n",
              "      <td>california is busy during july</td>\n",
              "    </tr>\n",
              "    <tr>\n",
              "      <th>5</th>\n",
              "      <td>new jersey is usually hot during march</td>\n",
              "      <td>new jersey is usually hot during march</td>\n",
              "    </tr>\n",
              "    <tr>\n",
              "      <th>6</th>\n",
              "      <td>they might go to paris next february</td>\n",
              "      <td>they might go to paris next february</td>\n",
              "    </tr>\n",
              "    <tr>\n",
              "      <th>7</th>\n",
              "      <td>our most loved fruit is the orange</td>\n",
              "      <td>our most loved fruit is the orange</td>\n",
              "    </tr>\n",
              "    <tr>\n",
              "      <th>8</th>\n",
              "      <td>he likes oranges</td>\n",
              "      <td>he likes oranges</td>\n",
              "    </tr>\n",
              "    <tr>\n",
              "      <th>9</th>\n",
              "      <td>india is usually mild during fall</td>\n",
              "      <td>india is usually mild during fall</td>\n",
              "    </tr>\n",
              "    <tr>\n",
              "      <th>10</th>\n",
              "      <td>california is cold during september</td>\n",
              "      <td>california is cold during september</td>\n",
              "    </tr>\n",
              "    <tr>\n",
              "      <th>11</th>\n",
              "      <td>california is sometimes busy during fall</td>\n",
              "      <td>california is sometimes busy during fall</td>\n",
              "    </tr>\n",
              "    <tr>\n",
              "      <th>12</th>\n",
              "      <td>he drove the old blue car</td>\n",
              "      <td>he drove the old blue car</td>\n",
              "    </tr>\n",
              "    <tr>\n",
              "      <th>13</th>\n",
              "      <td>his most feared animals were lions</td>\n",
              "      <td>his most feared animals were lions</td>\n",
              "    </tr>\n",
              "    <tr>\n",
              "      <th>14</th>\n",
              "      <td>india is sometimes relaxing during fall</td>\n",
              "      <td>india is sometimes relaxing during autumn</td>\n",
              "    </tr>\n",
              "  </tbody>\n",
              "</table>\n",
              "</div>"
            ],
            "text/plain": [
              "                                       actual                                    predicted\n",
              "0           your favorite fruit is the apple            your favorite fruit is the apple  \n",
              "1        france is never rainy during august         france is never rainy during august  \n",
              "2             the lime is her favorite fruit              the lime is her favorite fruit  \n",
              "3            he likes a big black automobile             he likes a big black automobile  \n",
              "4             california is busy during july             california is busy during july   \n",
              "5     new jersey is usually hot during march       new jersey is usually hot during march \n",
              "6       they might go to paris next february         they might go to paris next february \n",
              "7         our most loved fruit is the orange           our most loved fruit is the orange \n",
              "8                           he likes oranges                         he likes oranges     \n",
              "9          india is usually mild during fall           india is usually mild during fall  \n",
              "10       california is cold during september        california is cold during september   \n",
              "11  california is sometimes busy during fall    california is sometimes busy during fall  \n",
              "12                 he drove the old blue car                   he drove the old blue car  \n",
              "13        his most feared animals were lions          his most feared animals were lions  \n",
              "14   india is sometimes relaxing during fall   india is sometimes relaxing during autumn  "
            ]
          },
          "metadata": {
            "tags": []
          },
          "execution_count": 38
        }
      ]
    },
    {
      "cell_type": "code",
      "metadata": {
        "id": "mqlnFmy4BR7Y",
        "colab_type": "code",
        "colab": {}
      },
      "source": [
        ""
      ],
      "execution_count": null,
      "outputs": []
    }
  ]
}